{
  "nbformat": 4,
  "nbformat_minor": 0,
  "metadata": {
    "colab": {
      "name": "Assignment_3.ipynb",
      "provenance": [],
      "collapsed_sections": [],
      "authorship_tag": "ABX9TyPBsCj7r4zUooZolNUKi0ST",
      "include_colab_link": true
    },
    "kernelspec": {
      "name": "python3",
      "display_name": "Python 3"
    },
    "language_info": {
      "name": "python"
    }
  },
  "cells": [
    {
      "cell_type": "markdown",
      "metadata": {
        "id": "view-in-github",
        "colab_type": "text"
      },
      "source": [
        "<a href=\"https://colab.research.google.com/github/Anshuman-000/assignment00/blob/main/Assignment_3.ipynb\" target=\"_parent\"><img src=\"https://colab.research.google.com/assets/colab-badge.svg\" alt=\"Open In Colab\"/></a>"
      ]
    },
    {
      "cell_type": "markdown",
      "source": [
        "**1. Why are functions advantageous to have in your programs?**\n",
        "\n",
        "**Answer-**\n",
        "Functions are set of codes which is written to perform certain task when called in a program. It is advantageuos to have the set of codes in forms of functions because a function is easy to read and reuse. It also provides modularity to the program."
      ],
      "metadata": {
        "id": "clMJoBhnMqwP"
      }
    },
    {
      "cell_type": "markdown",
      "source": [
        "**2.When does the code in a function run: when it's specified or when it's called?**\n",
        "\n",
        "**Answer-**\n",
        "The code in a function runs when it is called inside a program."
      ],
      "metadata": {
        "id": "35BzP4j0Ncz1"
      }
    },
    {
      "cell_type": "markdown",
      "source": [
        "**3. What statement creates a function?**\n",
        "\n",
        "**Answer-**\n",
        "A statement begining with keyword **def** creates a function. The signature will be def <name of function>(arguments to be used in function)\n"
      ],
      "metadata": {
        "id": "CuQgjk6bNxgr"
      }
    },
    {
      "cell_type": "markdown",
      "source": [
        "**4. What is the difference between a function and a function call?**\n",
        "\n",
        "**Answer-**\n",
        "A function is procedure to achieve a particular result while function call is using this function to achive that task."
      ],
      "metadata": {
        "id": "N9TssoFqOVZ8"
      }
    },
    {
      "cell_type": "markdown",
      "source": [
        "**5. How many global scopes are there in a Python program? How many local scopes?**\n",
        "\n",
        "**Answer-**\n",
        "A python program can have only one global scope. But it can have many local scopes."
      ],
      "metadata": {
        "id": "t3JZs4PSO3Lb"
      }
    },
    {
      "cell_type": "markdown",
      "source": [
        "**6. What happens to variables in a local scope when the function call returns?**\n",
        "\n",
        "**Anshwer-**\n",
        "The local variable is destroyed when a function call returns. The local variable disappears as the execution of function ends."
      ],
      "metadata": {
        "id": "mQK368BKTh6d"
      }
    },
    {
      "cell_type": "markdown",
      "source": [
        "**7. What is the concept of a return value? Is it possible to have a return value in an expression?**\n",
        "\n",
        "**Answer-** The concept of return value refers to end of execution of function once the return value is called. Yes we can have a return value in an expression.\n"
      ],
      "metadata": {
        "id": "Vs8YPfs9UKJt"
      }
    },
    {
      "cell_type": "markdown",
      "source": [
        "**8. If a function does not have a return statement, what is the return value of a call to that function?**\n",
        "\n",
        "**Answer-**\n",
        "If a function does not have a return statement then the return value of a call to the function will be none."
      ],
      "metadata": {
        "id": "uhbAdfeVV0Lt"
      }
    },
    {
      "cell_type": "markdown",
      "source": [
        "**9. How do you make a function variable refer to the global variable?**\n",
        "\n",
        "**Answer-**\n",
        "We can use the keyword global before a variable in a local space to decalre it as a global variable."
      ],
      "metadata": {
        "id": "USFcm9_vWlxE"
      }
    },
    {
      "cell_type": "markdown",
      "source": [
        "**10. What is the data type of None?**\n",
        "\n",
        "**Answer-**\n",
        "The data type of None will be none as it has a null value."
      ],
      "metadata": {
        "id": "XvrZCtzuXCye"
      }
    },
    {
      "cell_type": "markdown",
      "source": [
        "**11. What does the sentence import areallyourpetsnamederic do?**\n",
        "\n",
        "**Answer-**\n",
        " import statement imports a module named areallyourpetsnamederic.\n"
      ],
      "metadata": {
        "id": "AqIopwlgXbNt"
      }
    },
    {
      "cell_type": "markdown",
      "source": [
        "**12. If you had a bacon() feature in a spam module, what would you call it after importing spam?**\n",
        "\n",
        "**Answer-**\n",
        "If bacon() feature in a spam module then it can be called using spam.bcaon() statement after importing the spam module."
      ],
      "metadata": {
        "id": "5lpNoCJaYGiU"
      }
    },
    {
      "cell_type": "markdown",
      "source": [
        "**13. What can you do to save a programme from crashing if it encounters an error?**\n",
        "\n",
        "**Answer-**\n",
        "If an error occurs in a program, we don't want the program to unexpectedly crash on the user. Instead, error handling can be used to notify the user of why the error occurred and gracefully exit the process that caused the error."
      ],
      "metadata": {
        "id": "MAEu1iOcY9El"
      }
    },
    {
      "cell_type": "markdown",
      "source": [
        "**14. What is the purpose of the try clause? What is the purpose of the except clause?**\n",
        "\n",
        "**Answer-**\n",
        "Except statement catches an exception. It is used to test code for an error which is written in the “try” statement. If an error is encountered, the contents of the “except” block are run."
      ],
      "metadata": {
        "id": "evXzjEJYdWQj"
      }
    }
  ]
}