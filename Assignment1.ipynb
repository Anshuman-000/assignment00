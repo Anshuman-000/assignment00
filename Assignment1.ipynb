{
  "nbformat": 4,
  "nbformat_minor": 0,
  "metadata": {
    "colab": {
      "name": "Assignment1.ipynb",
      "provenance": [],
      "collapsed_sections": [],
      "authorship_tag": "ABX9TyNiRTD0sMYMroadE1GKrL/W",
      "include_colab_link": true
    },
    "kernelspec": {
      "name": "python3",
      "display_name": "Python 3"
    },
    "language_info": {
      "name": "python"
    }
  },
  "cells": [
    {
      "cell_type": "markdown",
      "metadata": {
        "id": "view-in-github",
        "colab_type": "text"
      },
      "source": [
        "<a href=\"https://colab.research.google.com/github/Anshuman-000/assignment00/blob/main/Assignment1.ipynb\" target=\"_parent\"><img src=\"https://colab.research.google.com/assets/colab-badge.svg\" alt=\"Open In Colab\"/></a>"
      ]
    },
    {
      "cell_type": "markdown",
      "source": [
        "**1. In the below elements which of them are values or an expression? eg:- values can be integer or string and expressions will be mathematical operators.**\n",
        "* \n",
        "'hello'\n",
        "-87.8\n",
        "- \n",
        "/ \n",
        "+\t\n",
        "6 \n",
        "\n",
        "**Answer-**\n",
        "Among the above options the values are- 'hello', -87.8, 6\n",
        "\n",
        "The epressions are- -,/,+\n",
        "\n",
        "**2. What is the difference between string and variable?**\n",
        "\n",
        "**Answer-**\n",
        "Variable is a name of a memory location which is used to store a data. This data can be of any type. \n",
        "\n",
        "String is a type of data. This data contains characters in between a pair of quots.\n",
        "\n",
        "**3. Describe three different data types.**\n",
        "\n",
        "**Answer-** The different types of data are integer,float, string, list etc\n",
        "\n",
        "**4. What is an expression made up of? What do all expressions do?**\n",
        "\n",
        "**Answer-**\n",
        "An expression is made up of operators and operands(values) which are evaluated to produce some value. The operation is performed according to precedence of its operators.\n",
        "example- (2*3)+4/6= 6.667\n",
        "Here integers are operands or values and operators are expressions. The evaluation of expression results into a float value.\n",
        "\n",
        "**5. This assignment statements, like spam = 10. What is the difference between an expression and a statement?**\n",
        "\n",
        "**Answer-**\n",
        "An Expression always evaluates to a value. And A statement does whatever the statement says like assigning a vlaue, creating or displaying a value etc  \n",
        "\n",
        "\n"
      ],
      "metadata": {
        "id": "iS--2JsUwy6Q"
      }
    },
    {
      "cell_type": "code",
      "source": [
        "#6. After running the following code, what does the variable bacon contain? bacon = 22 bacon + 1\n",
        "bacon=22\n",
        "bacon+1"
      ],
      "metadata": {
        "colab": {
          "base_uri": "https://localhost:8080/"
        },
        "id": "_kdyOF8w2kaQ",
        "outputId": "6c14f35e-c338-40d0-ce32-59467bff4fe6"
      },
      "execution_count": 2,
      "outputs": [
        {
          "output_type": "execute_result",
          "data": {
            "text/plain": [
              "23"
            ]
          },
          "metadata": {},
          "execution_count": 2
        }
      ]
    },
    {
      "cell_type": "code",
      "source": [
        "#7. What should the values of the following two terms be?\n",
        "'spam' + 'spamspam'\n",
        "'spam' * 3\n",
        "#Answer- The value of both terms will be same. In first term the concatenation operation between 2 strings is performed. In the second term\n",
        "#multiplication operator is used to perform replication operation."
      ],
      "metadata": {
        "colab": {
          "base_uri": "https://localhost:8080/",
          "height": 35
        },
        "id": "zq7Gp0bwFQTY",
        "outputId": "ca407e59-fc54-4a94-b492-12ce59de3014"
      },
      "execution_count": 2,
      "outputs": [
        {
          "output_type": "execute_result",
          "data": {
            "application/vnd.google.colaboratory.intrinsic+json": {
              "type": "string"
            },
            "text/plain": [
              "'spamspamspam'"
            ]
          },
          "metadata": {},
          "execution_count": 2
        }
      ]
    },
    {
      "cell_type": "markdown",
      "source": [
        "**8. Why is eggs a valid variable name while 100 is invalid?**\n",
        "\n",
        "**Answer-**\n",
        "eggs is an alphabetical value to be used as a variable which is valid to use while 100 is a numeric value which can not be used as the name of a variable.\n",
        "below are some of the points to remeber while creating a variable:\n",
        "\n",
        "->A variable name must start with a letter or the underscore character\n",
        "\n",
        "->A variable name cannot start with a number\n",
        "\n",
        "->A variable name can only contain alpha-numeric characters and underscores (A-z, 0-9, and _ )\n",
        "\n",
        "->Variable names are case-sensitive (age, Age and AGE are three different variables)\n",
        "\n",
        "\n",
        "\n",
        "\n",
        "\n",
        "\n"
      ],
      "metadata": {
        "id": "7RwaP_5YGY1S"
      }
    },
    {
      "cell_type": "markdown",
      "source": [
        "**9. What three functions can be used to get the integer, floating-point number, or string version of a value?**\n",
        "\n",
        "**Answer-**\n",
        "the three function used to get the integer loating point number or string version of a value are int(), float(), str(). This concept is called typecasting."
      ],
      "metadata": {
        "id": "G1o1mELeIyi3"
      }
    },
    {
      "cell_type": "code",
      "source": [
        "x=int(6)\n",
        "x"
      ],
      "metadata": {
        "colab": {
          "base_uri": "https://localhost:8080/"
        },
        "id": "dU_HqoJVJTRo",
        "outputId": "a487eabc-7021-4929-f44f-44dd6c016420"
      },
      "execution_count": 13,
      "outputs": [
        {
          "output_type": "execute_result",
          "data": {
            "text/plain": [
              "6"
            ]
          },
          "metadata": {},
          "execution_count": 13
        }
      ]
    },
    {
      "cell_type": "code",
      "source": [
        "x=float(7)\n",
        "x"
      ],
      "metadata": {
        "colab": {
          "base_uri": "https://localhost:8080/"
        },
        "id": "rqAKROnGK2Xp",
        "outputId": "8059fb01-a5a5-41a1-cd7a-b67c6b95c94b"
      },
      "execution_count": 14,
      "outputs": [
        {
          "output_type": "execute_result",
          "data": {
            "text/plain": [
              "7.0"
            ]
          },
          "metadata": {},
          "execution_count": 14
        }
      ]
    },
    {
      "cell_type": "code",
      "source": [
        "x=str(10)\n",
        "x"
      ],
      "metadata": {
        "colab": {
          "base_uri": "https://localhost:8080/",
          "height": 35
        },
        "id": "r2yLG3YMK94E",
        "outputId": "2678b769-59df-4d4a-a982-cbc3d6909691"
      },
      "execution_count": 15,
      "outputs": [
        {
          "output_type": "execute_result",
          "data": {
            "application/vnd.google.colaboratory.intrinsic+json": {
              "type": "string"
            },
            "text/plain": [
              "'10'"
            ]
          },
          "metadata": {},
          "execution_count": 15
        }
      ]
    },
    {
      "cell_type": "markdown",
      "source": [
        "**10. Why does this expression cause an error? How can you fix it?\n",
        "'I have eaten ' + 99 + ' burritos.'**\n",
        "\n",
        "**Answer-**\n",
        "This expression causes error because we can't use concatenation operator to concatenate 2 different types of data. In the above problem a string and an integers are used to concatenate. To resolve this error we have to convert the integer to string by putting it in between quots.\n"
      ],
      "metadata": {
        "id": "JOGj8Pa6LMMK"
      }
    },
    {
      "cell_type": "code",
      "source": [
        "'I have eaten'+' 99 '+'burritos'"
      ],
      "metadata": {
        "colab": {
          "base_uri": "https://localhost:8080/",
          "height": 35
        },
        "id": "7FrpBRlfL1S_",
        "outputId": "0e46c52d-2107-4b71-a337-6b2443338625"
      },
      "execution_count": 17,
      "outputs": [
        {
          "output_type": "execute_result",
          "data": {
            "application/vnd.google.colaboratory.intrinsic+json": {
              "type": "string"
            },
            "text/plain": [
              "'I have eaten 99 burritos'"
            ]
          },
          "metadata": {},
          "execution_count": 17
        }
      ]
    }
  ]
}